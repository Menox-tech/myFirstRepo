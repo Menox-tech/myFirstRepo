{
  "nbformat": 4,
  "nbformat_minor": 0,
  "metadata": {
    "colab": {
      "name": "Untitled0.ipynb",
      "provenance": [],
      "collapsed_sections": [],
      "authorship_tag": "ABX9TyPT++TwJPXXuj9KUnVRvELC",
      "include_colab_link": true
    },
    "kernelspec": {
      "name": "python3",
      "display_name": "Python 3"
    },
    "language_info": {
      "name": "python"
    }
  },
  "cells": [
    {
      "cell_type": "markdown",
      "metadata": {
        "id": "view-in-github",
        "colab_type": "text"
      },
      "source": [
        "<a href=\"https://colab.research.google.com/github/MeemooMe/myFirstRepo/blob/master/TrafficDS_1.ipynb\" target=\"_parent\"><img src=\"https://colab.research.google.com/assets/colab-badge.svg\" alt=\"Open In Colab\"/></a>"
      ]
    },
    {
      "cell_type": "code",
      "metadata": {
        "id": "MzSYtVCly2qQ"
      },
      "source": [
        "# import library, pandas to read the dataset, matplotlib to visualize data, and re to clean the text \n",
        "import pandas as pd\n",
        "from matplotlib import pyplot as plt\n",
        "import numpy as np\n",
        "%matplotlib inline"
      ],
      "execution_count": 2,
      "outputs": []
    },
    {
      "cell_type": "code",
      "metadata": {
        "colab": {
          "resources": {
            "http://localhost:8080/nbextensions/google.colab/files.js": {
              "data": "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",
              "ok": true,
              "headers": [
                [
                  "content-type",
                  "application/javascript"
                ]
              ],
              "status": 200,
              "status_text": ""
            }
          },
          "base_uri": "https://localhost:8080/",
          "height": 140
        },
        "id": "hpyirm_i1RRC",
        "outputId": "17e90035-fcb8-4f41-a5e6-ce51a61a8a03"
      },
      "source": [
        "# upload dataset files, the data is splitted into 2 files; accident characteritstics data file (caracteristiques-2019.csv) and drivers data file (usagers-2019.csv)\n",
        "import io\n",
        "from google.colab import files\n",
        "uploaded = files.upload()\n",
        "\n",
        "for name, data in uploaded.items():\n",
        "  with open(name, 'wb') as f:\n",
        "    f.write(data)\n",
        "    print ('saved file', name)\n"
      ],
      "execution_count": 7,
      "outputs": [
        {
          "output_type": "display_data",
          "data": {
            "text/html": [
              "\n",
              "     <input type=\"file\" id=\"files-0527784b-f260-4a88-aee0-ae31e538ba69\" name=\"files[]\" multiple disabled\n",
              "        style=\"border:none\" />\n",
              "     <output id=\"result-0527784b-f260-4a88-aee0-ae31e538ba69\">\n",
              "      Upload widget is only available when the cell has been executed in the\n",
              "      current browser session. Please rerun this cell to enable.\n",
              "      </output>\n",
              "      <script src=\"/nbextensions/google.colab/files.js\"></script> "
            ],
            "text/plain": [
              "<IPython.core.display.HTML object>"
            ]
          },
          "metadata": {}
        },
        {
          "output_type": "stream",
          "name": "stdout",
          "text": [
            "Saving caracteristiques-2019.csv to caracteristiques-2019.csv\n",
            "Saving usagers-2019.csv to usagers-2019.csv\n",
            "saved file caracteristiques-2019.csv\n",
            "saved file usagers-2019.csv\n"
          ]
        }
      ]
    },
    {
      "cell_type": "code",
      "metadata": {
        "id": "peEEJyPB1kRL"
      },
      "source": [
        "# read uploaded data using pd.read_csv, then store the data in df dataframe\n",
        "# charcts_df ==> Accident characterstics \n",
        "# drivers_df ==> Drivers data\n",
        "\n",
        "charcts_df = pd.read_csv(io.StringIO(uploaded['caracteristiques-2019.csv'].decode()), sep = ',')\n",
        "drivers_df = pd.read_csv(io.StringIO(uploaded['usagers-2019.csv'].decode()), sep = ',')"
      ],
      "execution_count": 92,
      "outputs": []
    },
    {
      "cell_type": "code",
      "metadata": {
        "colab": {
          "base_uri": "https://localhost:8080/",
          "height": 204
        },
        "id": "uwBqqT4AHogL",
        "outputId": "248ffa8f-48a8-4033-c9f3-33324694b85c"
      },
      "source": [
        "# show random dataframe content (5 rows) for the two datasets\n",
        "charcts_df.sample(5)"
      ],
      "execution_count": 100,
      "outputs": [
        {
          "output_type": "execute_result",
          "data": {
            "text/html": [
              "<div>\n",
              "<style scoped>\n",
              "    .dataframe tbody tr th:only-of-type {\n",
              "        vertical-align: middle;\n",
              "    }\n",
              "\n",
              "    .dataframe tbody tr th {\n",
              "        vertical-align: top;\n",
              "    }\n",
              "\n",
              "    .dataframe thead th {\n",
              "        text-align: right;\n",
              "    }\n",
              "</style>\n",
              "<table border=\"1\" class=\"dataframe\">\n",
              "  <thead>\n",
              "    <tr style=\"text-align: right;\">\n",
              "      <th></th>\n",
              "      <th>Num_Acc</th>\n",
              "      <th>jour</th>\n",
              "      <th>mois</th>\n",
              "      <th>an</th>\n",
              "      <th>hrmn</th>\n",
              "      <th>lum</th>\n",
              "      <th>dep</th>\n",
              "      <th>com</th>\n",
              "      <th>agg</th>\n",
              "      <th>int</th>\n",
              "      <th>atm</th>\n",
              "      <th>col</th>\n",
              "      <th>adr</th>\n",
              "      <th>lat</th>\n",
              "      <th>long</th>\n",
              "    </tr>\n",
              "  </thead>\n",
              "  <tbody>\n",
              "    <tr>\n",
              "      <th>54977</th>\n",
              "      <td>201900054978</td>\n",
              "      <td>11.0</td>\n",
              "      <td>6.0</td>\n",
              "      <td>2019.0</td>\n",
              "      <td>0.625000</td>\n",
              "      <td>1.0</td>\n",
              "      <td>75</td>\n",
              "      <td>75112</td>\n",
              "      <td>2.0</td>\n",
              "      <td>4.0</td>\n",
              "      <td>1.0</td>\n",
              "      <td>3.0</td>\n",
              "      <td>PORT DE BERCY</td>\n",
              "      <td>488277150.0</td>\n",
              "      <td>23945180.0</td>\n",
              "    </tr>\n",
              "    <tr>\n",
              "      <th>48201</th>\n",
              "      <td>201900048202</td>\n",
              "      <td>11.0</td>\n",
              "      <td>1.0</td>\n",
              "      <td>2019.0</td>\n",
              "      <td>0.631944</td>\n",
              "      <td>1.0</td>\n",
              "      <td>94</td>\n",
              "      <td>94028</td>\n",
              "      <td>2.0</td>\n",
              "      <td>1.0</td>\n",
              "      <td>2.0</td>\n",
              "      <td>6.0</td>\n",
              "      <td>C.C.R CRETEIL SOLEIL (Parking)</td>\n",
              "      <td>487820000.0</td>\n",
              "      <td>24570000.0</td>\n",
              "    </tr>\n",
              "    <tr>\n",
              "      <th>5165</th>\n",
              "      <td>201900005166</td>\n",
              "      <td>17.0</td>\n",
              "      <td>8.0</td>\n",
              "      <td>2019.0</td>\n",
              "      <td>0.690972</td>\n",
              "      <td>1.0</td>\n",
              "      <td>93</td>\n",
              "      <td>93064</td>\n",
              "      <td>1.0</td>\n",
              "      <td>1.0</td>\n",
              "      <td>2.0</td>\n",
              "      <td>4.0</td>\n",
              "      <td>AUTOROUTE A86</td>\n",
              "      <td>488791700.0</td>\n",
              "      <td>24763400.0</td>\n",
              "    </tr>\n",
              "    <tr>\n",
              "      <th>30209</th>\n",
              "      <td>201900030210</td>\n",
              "      <td>26.0</td>\n",
              "      <td>6.0</td>\n",
              "      <td>2019.0</td>\n",
              "      <td>0.465278</td>\n",
              "      <td>1.0</td>\n",
              "      <td>94</td>\n",
              "      <td>94028</td>\n",
              "      <td>1.0</td>\n",
              "      <td>1.0</td>\n",
              "      <td>1.0</td>\n",
              "      <td>2.0</td>\n",
              "      <td>A86 INT</td>\n",
              "      <td>487805071.0</td>\n",
              "      <td>24413936.0</td>\n",
              "    </tr>\n",
              "    <tr>\n",
              "      <th>17322</th>\n",
              "      <td>201900017323</td>\n",
              "      <td>14.0</td>\n",
              "      <td>10.0</td>\n",
              "      <td>2019.0</td>\n",
              "      <td>0.895833</td>\n",
              "      <td>5.0</td>\n",
              "      <td>75</td>\n",
              "      <td>75109</td>\n",
              "      <td>2.0</td>\n",
              "      <td>4.0</td>\n",
              "      <td>2.0</td>\n",
              "      <td>3.0</td>\n",
              "      <td>RUE AUBER</td>\n",
              "      <td>488721721.0</td>\n",
              "      <td>23299012.0</td>\n",
              "    </tr>\n",
              "  </tbody>\n",
              "</table>\n",
              "</div>"
            ],
            "text/plain": [
              "            Num_Acc  jour  ...          lat        long\n",
              "54977  201900054978  11.0  ...  488277150.0  23945180.0\n",
              "48201  201900048202  11.0  ...  487820000.0  24570000.0\n",
              "5165   201900005166  17.0  ...  488791700.0  24763400.0\n",
              "30209  201900030210  26.0  ...  487805071.0  24413936.0\n",
              "17322  201900017323  14.0  ...  488721721.0  23299012.0\n",
              "\n",
              "[5 rows x 15 columns]"
            ]
          },
          "metadata": {},
          "execution_count": 100
        }
      ]
    },
    {
      "cell_type": "code",
      "metadata": {
        "colab": {
          "base_uri": "https://localhost:8080/",
          "height": 204
        },
        "id": "jZgZcxaKsdFR",
        "outputId": "b4d38222-d3e0-4a60-a6ca-fb9226d29b9f"
      },
      "source": [
        "drivers_df.sample(5)"
      ],
      "execution_count": 96,
      "outputs": [
        {
          "output_type": "execute_result",
          "data": {
            "text/html": [
              "<div>\n",
              "<style scoped>\n",
              "    .dataframe tbody tr th:only-of-type {\n",
              "        vertical-align: middle;\n",
              "    }\n",
              "\n",
              "    .dataframe tbody tr th {\n",
              "        vertical-align: top;\n",
              "    }\n",
              "\n",
              "    .dataframe thead th {\n",
              "        text-align: right;\n",
              "    }\n",
              "</style>\n",
              "<table border=\"1\" class=\"dataframe\">\n",
              "  <thead>\n",
              "    <tr style=\"text-align: right;\">\n",
              "      <th></th>\n",
              "      <th>Num_Acc</th>\n",
              "      <th>id_vehicule</th>\n",
              "      <th>num_veh</th>\n",
              "      <th>place</th>\n",
              "      <th>catu</th>\n",
              "      <th>grav</th>\n",
              "      <th>sexe</th>\n",
              "      <th>an_nais</th>\n",
              "      <th>trajet</th>\n",
              "      <th>secu1</th>\n",
              "      <th>secu2</th>\n",
              "      <th>secu3</th>\n",
              "      <th>locp</th>\n",
              "      <th>actp</th>\n",
              "      <th>etatp</th>\n",
              "    </tr>\n",
              "  </thead>\n",
              "  <tbody>\n",
              "    <tr>\n",
              "      <th>94863</th>\n",
              "      <td>201900042070</td>\n",
              "      <td>138 227 102</td>\n",
              "      <td>A01</td>\n",
              "      <td>2</td>\n",
              "      <td>2</td>\n",
              "      <td>4</td>\n",
              "      <td>1</td>\n",
              "      <td>1992</td>\n",
              "      <td>5</td>\n",
              "      <td>1</td>\n",
              "      <td>0</td>\n",
              "      <td>-1</td>\n",
              "      <td>-1</td>\n",
              "      <td>0</td>\n",
              "      <td>-1</td>\n",
              "    </tr>\n",
              "    <tr>\n",
              "      <th>91285</th>\n",
              "      <td>201900040458</td>\n",
              "      <td>138 230 075</td>\n",
              "      <td>A01</td>\n",
              "      <td>2</td>\n",
              "      <td>2</td>\n",
              "      <td>2</td>\n",
              "      <td>1</td>\n",
              "      <td>1999</td>\n",
              "      <td>0</td>\n",
              "      <td>0</td>\n",
              "      <td>-1</td>\n",
              "      <td>-1</td>\n",
              "      <td>0</td>\n",
              "      <td>0</td>\n",
              "      <td>-1</td>\n",
              "    </tr>\n",
              "    <tr>\n",
              "      <th>6590</th>\n",
              "      <td>201900002953</td>\n",
              "      <td>138 300 931</td>\n",
              "      <td>A01</td>\n",
              "      <td>1</td>\n",
              "      <td>1</td>\n",
              "      <td>3</td>\n",
              "      <td>1</td>\n",
              "      <td>1997</td>\n",
              "      <td>5</td>\n",
              "      <td>2</td>\n",
              "      <td>-1</td>\n",
              "      <td>-1</td>\n",
              "      <td>0</td>\n",
              "      <td>0</td>\n",
              "      <td>-1</td>\n",
              "    </tr>\n",
              "    <tr>\n",
              "      <th>36485</th>\n",
              "      <td>201900016201</td>\n",
              "      <td>138 276 255</td>\n",
              "      <td>A01</td>\n",
              "      <td>1</td>\n",
              "      <td>1</td>\n",
              "      <td>1</td>\n",
              "      <td>1</td>\n",
              "      <td>2000</td>\n",
              "      <td>5</td>\n",
              "      <td>2</td>\n",
              "      <td>0</td>\n",
              "      <td>-1</td>\n",
              "      <td>0</td>\n",
              "      <td>0</td>\n",
              "      <td>-1</td>\n",
              "    </tr>\n",
              "    <tr>\n",
              "      <th>117680</th>\n",
              "      <td>201900052103</td>\n",
              "      <td>138 208 165</td>\n",
              "      <td>A01</td>\n",
              "      <td>1</td>\n",
              "      <td>1</td>\n",
              "      <td>4</td>\n",
              "      <td>1</td>\n",
              "      <td>1968</td>\n",
              "      <td>1</td>\n",
              "      <td>1</td>\n",
              "      <td>8</td>\n",
              "      <td>-1</td>\n",
              "      <td>0</td>\n",
              "      <td>0</td>\n",
              "      <td>-1</td>\n",
              "    </tr>\n",
              "  </tbody>\n",
              "</table>\n",
              "</div>"
            ],
            "text/plain": [
              "             Num_Acc  id_vehicule num_veh  place  ...  secu3  locp  actp  etatp\n",
              "94863   201900042070  138 227 102     A01      2  ...     -1    -1     0     -1\n",
              "91285   201900040458  138 230 075     A01      2  ...     -1     0     0     -1\n",
              "6590    201900002953  138 300 931     A01      1  ...     -1     0     0     -1\n",
              "36485   201900016201  138 276 255     A01      1  ...     -1     0     0     -1\n",
              "117680  201900052103  138 208 165     A01      1  ...     -1     0     0     -1\n",
              "\n",
              "[5 rows x 15 columns]"
            ]
          },
          "metadata": {},
          "execution_count": 96
        }
      ]
    },
    {
      "cell_type": "code",
      "metadata": {
        "colab": {
          "base_uri": "https://localhost:8080/",
          "height": 297
        },
        "id": "RJDSa_QLH1Ca",
        "outputId": "f13abbb3-8d88-4ba6-fe7d-150ec3b47a22"
      },
      "source": [
        "# overview the two datasets, show basic stats\n",
        "charcts_df.describe()"
      ],
      "execution_count": 109,
      "outputs": [
        {
          "output_type": "execute_result",
          "data": {
            "text/html": [
              "<div>\n",
              "<style scoped>\n",
              "    .dataframe tbody tr th:only-of-type {\n",
              "        vertical-align: middle;\n",
              "    }\n",
              "\n",
              "    .dataframe tbody tr th {\n",
              "        vertical-align: top;\n",
              "    }\n",
              "\n",
              "    .dataframe thead th {\n",
              "        text-align: right;\n",
              "    }\n",
              "</style>\n",
              "<table border=\"1\" class=\"dataframe\">\n",
              "  <thead>\n",
              "    <tr style=\"text-align: right;\">\n",
              "      <th></th>\n",
              "      <th>jour</th>\n",
              "      <th>mois</th>\n",
              "      <th>an</th>\n",
              "      <th>hrmn</th>\n",
              "      <th>lum</th>\n",
              "      <th>agg</th>\n",
              "      <th>int</th>\n",
              "      <th>atm</th>\n",
              "      <th>col</th>\n",
              "      <th>lat</th>\n",
              "      <th>long</th>\n",
              "    </tr>\n",
              "  </thead>\n",
              "  <tbody>\n",
              "    <tr>\n",
              "      <th>count</th>\n",
              "      <td>58713.000000</td>\n",
              "      <td>58713.000000</td>\n",
              "      <td>58713.0</td>\n",
              "      <td>58713.000000</td>\n",
              "      <td>58713.000000</td>\n",
              "      <td>58713.000000</td>\n",
              "      <td>58713.000000</td>\n",
              "      <td>58713.000000</td>\n",
              "      <td>58713.000000</td>\n",
              "      <td>5.871300e+04</td>\n",
              "      <td>5.871300e+04</td>\n",
              "    </tr>\n",
              "    <tr>\n",
              "      <th>mean</th>\n",
              "      <td>15.685964</td>\n",
              "      <td>6.688485</td>\n",
              "      <td>2019.0</td>\n",
              "      <td>0.576343</td>\n",
              "      <td>1.945021</td>\n",
              "      <td>1.645990</td>\n",
              "      <td>2.025480</td>\n",
              "      <td>1.617052</td>\n",
              "      <td>4.164717</td>\n",
              "      <td>4.458634e+08</td>\n",
              "      <td>2.864451e+07</td>\n",
              "    </tr>\n",
              "    <tr>\n",
              "      <th>std</th>\n",
              "      <td>8.720109</td>\n",
              "      <td>3.387156</td>\n",
              "      <td>0.0</td>\n",
              "      <td>0.230809</td>\n",
              "      <td>1.504425</td>\n",
              "      <td>0.478216</td>\n",
              "      <td>1.997358</td>\n",
              "      <td>1.677022</td>\n",
              "      <td>1.953664</td>\n",
              "      <td>1.182908e+08</td>\n",
              "      <td>1.871112e+08</td>\n",
              "    </tr>\n",
              "    <tr>\n",
              "      <th>min</th>\n",
              "      <td>1.000000</td>\n",
              "      <td>1.000000</td>\n",
              "      <td>2019.0</td>\n",
              "      <td>0.000000</td>\n",
              "      <td>1.000000</td>\n",
              "      <td>1.000000</td>\n",
              "      <td>1.000000</td>\n",
              "      <td>-1.000000</td>\n",
              "      <td>-1.000000</td>\n",
              "      <td>-6.142566e+08</td>\n",
              "      <td>-1.781574e+09</td>\n",
              "    </tr>\n",
              "    <tr>\n",
              "      <th>25%</th>\n",
              "      <td>8.000000</td>\n",
              "      <td>4.000000</td>\n",
              "      <td>2019.0</td>\n",
              "      <td>0.402778</td>\n",
              "      <td>1.000000</td>\n",
              "      <td>1.000000</td>\n",
              "      <td>1.000000</td>\n",
              "      <td>1.000000</td>\n",
              "      <td>3.000000</td>\n",
              "      <td>4.478586e+08</td>\n",
              "      <td>1.410280e+07</td>\n",
              "    </tr>\n",
              "    <tr>\n",
              "      <th>50%</th>\n",
              "      <td>16.000000</td>\n",
              "      <td>7.000000</td>\n",
              "      <td>2019.0</td>\n",
              "      <td>0.611111</td>\n",
              "      <td>1.000000</td>\n",
              "      <td>2.000000</td>\n",
              "      <td>1.000000</td>\n",
              "      <td>1.000000</td>\n",
              "      <td>3.000000</td>\n",
              "      <td>4.782554e+08</td>\n",
              "      <td>2.398705e+07</td>\n",
              "    </tr>\n",
              "    <tr>\n",
              "      <th>75%</th>\n",
              "      <td>23.000000</td>\n",
              "      <td>10.000000</td>\n",
              "      <td>2019.0</td>\n",
              "      <td>0.756944</td>\n",
              "      <td>3.000000</td>\n",
              "      <td>2.000000</td>\n",
              "      <td>2.000000</td>\n",
              "      <td>1.000000</td>\n",
              "      <td>6.000000</td>\n",
              "      <td>4.885652e+08</td>\n",
              "      <td>4.829060e+07</td>\n",
              "    </tr>\n",
              "    <tr>\n",
              "      <th>max</th>\n",
              "      <td>31.000000</td>\n",
              "      <td>12.000000</td>\n",
              "      <td>2019.0</td>\n",
              "      <td>0.999306</td>\n",
              "      <td>5.000000</td>\n",
              "      <td>2.000000</td>\n",
              "      <td>9.000000</td>\n",
              "      <td>9.000000</td>\n",
              "      <td>7.000000</td>\n",
              "      <td>6.356807e+08</td>\n",
              "      <td>1.740234e+09</td>\n",
              "    </tr>\n",
              "  </tbody>\n",
              "</table>\n",
              "</div>"
            ],
            "text/plain": [
              "               jour          mois  ...           lat          long\n",
              "count  58713.000000  58713.000000  ...  5.871300e+04  5.871300e+04\n",
              "mean      15.685964      6.688485  ...  4.458634e+08  2.864451e+07\n",
              "std        8.720109      3.387156  ...  1.182908e+08  1.871112e+08\n",
              "min        1.000000      1.000000  ... -6.142566e+08 -1.781574e+09\n",
              "25%        8.000000      4.000000  ...  4.478586e+08  1.410280e+07\n",
              "50%       16.000000      7.000000  ...  4.782554e+08  2.398705e+07\n",
              "75%       23.000000     10.000000  ...  4.885652e+08  4.829060e+07\n",
              "max       31.000000     12.000000  ...  6.356807e+08  1.740234e+09\n",
              "\n",
              "[8 rows x 11 columns]"
            ]
          },
          "metadata": {},
          "execution_count": 109
        }
      ]
    },
    {
      "cell_type": "code",
      "metadata": {
        "colab": {
          "base_uri": "https://localhost:8080/",
          "height": 297
        },
        "id": "NRN231rFsjPn",
        "outputId": "723d5d01-4de7-4983-ad02-0dd1f37835d7"
      },
      "source": [
        "drivers_df.describe()"
      ],
      "execution_count": 103,
      "outputs": [
        {
          "output_type": "execute_result",
          "data": {
            "text/html": [
              "<div>\n",
              "<style scoped>\n",
              "    .dataframe tbody tr th:only-of-type {\n",
              "        vertical-align: middle;\n",
              "    }\n",
              "\n",
              "    .dataframe tbody tr th {\n",
              "        vertical-align: top;\n",
              "    }\n",
              "\n",
              "    .dataframe thead th {\n",
              "        text-align: right;\n",
              "    }\n",
              "</style>\n",
              "<table border=\"1\" class=\"dataframe\">\n",
              "  <thead>\n",
              "    <tr style=\"text-align: right;\">\n",
              "      <th></th>\n",
              "      <th>Num_Acc</th>\n",
              "      <th>place</th>\n",
              "      <th>catu</th>\n",
              "      <th>grav</th>\n",
              "      <th>sexe</th>\n",
              "      <th>an_nais</th>\n",
              "      <th>trajet</th>\n",
              "      <th>secu1</th>\n",
              "      <th>secu2</th>\n",
              "      <th>secu3</th>\n",
              "      <th>locp</th>\n",
              "      <th>etatp</th>\n",
              "    </tr>\n",
              "  </thead>\n",
              "  <tbody>\n",
              "    <tr>\n",
              "      <th>count</th>\n",
              "      <td>1.329770e+05</td>\n",
              "      <td>132977.000000</td>\n",
              "      <td>132977.000000</td>\n",
              "      <td>132977.000000</td>\n",
              "      <td>132977.000000</td>\n",
              "      <td>132977.000000</td>\n",
              "      <td>132977.000000</td>\n",
              "      <td>132977.000000</td>\n",
              "      <td>132977.000000</td>\n",
              "      <td>132977.000000</td>\n",
              "      <td>132977.000000</td>\n",
              "      <td>132977.000000</td>\n",
              "    </tr>\n",
              "    <tr>\n",
              "      <th>mean</th>\n",
              "      <td>2.019000e+11</td>\n",
              "      <td>2.184754</td>\n",
              "      <td>1.352587</td>\n",
              "      <td>2.542635</td>\n",
              "      <td>1.320304</td>\n",
              "      <td>1980.079600</td>\n",
              "      <td>3.224279</td>\n",
              "      <td>2.179790</td>\n",
              "      <td>1.454282</td>\n",
              "      <td>-0.913361</td>\n",
              "      <td>-0.109267</td>\n",
              "      <td>-0.810306</td>\n",
              "    </tr>\n",
              "    <tr>\n",
              "      <th>std</th>\n",
              "      <td>1.699444e+04</td>\n",
              "      <td>2.695724</td>\n",
              "      <td>0.630635</td>\n",
              "      <td>1.371815</td>\n",
              "      <td>0.466595</td>\n",
              "      <td>19.164625</td>\n",
              "      <td>2.667380</td>\n",
              "      <td>2.474627</td>\n",
              "      <td>3.284485</td>\n",
              "      <td>0.892062</td>\n",
              "      <td>1.247776</td>\n",
              "      <td>0.648306</td>\n",
              "    </tr>\n",
              "    <tr>\n",
              "      <th>min</th>\n",
              "      <td>2.019000e+11</td>\n",
              "      <td>1.000000</td>\n",
              "      <td>1.000000</td>\n",
              "      <td>1.000000</td>\n",
              "      <td>1.000000</td>\n",
              "      <td>1900.000000</td>\n",
              "      <td>-1.000000</td>\n",
              "      <td>-1.000000</td>\n",
              "      <td>-1.000000</td>\n",
              "      <td>-1.000000</td>\n",
              "      <td>-1.000000</td>\n",
              "      <td>-1.000000</td>\n",
              "    </tr>\n",
              "    <tr>\n",
              "      <th>25%</th>\n",
              "      <td>2.019000e+11</td>\n",
              "      <td>1.000000</td>\n",
              "      <td>1.000000</td>\n",
              "      <td>1.000000</td>\n",
              "      <td>1.000000</td>\n",
              "      <td>1967.000000</td>\n",
              "      <td>0.000000</td>\n",
              "      <td>1.000000</td>\n",
              "      <td>-1.000000</td>\n",
              "      <td>-1.000000</td>\n",
              "      <td>-1.000000</td>\n",
              "      <td>-1.000000</td>\n",
              "    </tr>\n",
              "    <tr>\n",
              "      <th>50%</th>\n",
              "      <td>2.019000e+11</td>\n",
              "      <td>1.000000</td>\n",
              "      <td>1.000000</td>\n",
              "      <td>3.000000</td>\n",
              "      <td>1.000000</td>\n",
              "      <td>1983.000000</td>\n",
              "      <td>4.000000</td>\n",
              "      <td>1.000000</td>\n",
              "      <td>0.000000</td>\n",
              "      <td>-1.000000</td>\n",
              "      <td>0.000000</td>\n",
              "      <td>-1.000000</td>\n",
              "    </tr>\n",
              "    <tr>\n",
              "      <th>75%</th>\n",
              "      <td>2.019000e+11</td>\n",
              "      <td>2.000000</td>\n",
              "      <td>2.000000</td>\n",
              "      <td>4.000000</td>\n",
              "      <td>2.000000</td>\n",
              "      <td>1995.000000</td>\n",
              "      <td>5.000000</td>\n",
              "      <td>2.000000</td>\n",
              "      <td>3.000000</td>\n",
              "      <td>-1.000000</td>\n",
              "      <td>0.000000</td>\n",
              "      <td>-1.000000</td>\n",
              "    </tr>\n",
              "    <tr>\n",
              "      <th>max</th>\n",
              "      <td>2.019001e+11</td>\n",
              "      <td>10.000000</td>\n",
              "      <td>3.000000</td>\n",
              "      <td>4.000000</td>\n",
              "      <td>2.000000</td>\n",
              "      <td>2019.000000</td>\n",
              "      <td>9.000000</td>\n",
              "      <td>9.000000</td>\n",
              "      <td>9.000000</td>\n",
              "      <td>9.000000</td>\n",
              "      <td>9.000000</td>\n",
              "      <td>3.000000</td>\n",
              "    </tr>\n",
              "  </tbody>\n",
              "</table>\n",
              "</div>"
            ],
            "text/plain": [
              "            Num_Acc          place  ...           locp          etatp\n",
              "count  1.329770e+05  132977.000000  ...  132977.000000  132977.000000\n",
              "mean   2.019000e+11       2.184754  ...      -0.109267      -0.810306\n",
              "std    1.699444e+04       2.695724  ...       1.247776       0.648306\n",
              "min    2.019000e+11       1.000000  ...      -1.000000      -1.000000\n",
              "25%    2.019000e+11       1.000000  ...      -1.000000      -1.000000\n",
              "50%    2.019000e+11       1.000000  ...       0.000000      -1.000000\n",
              "75%    2.019000e+11       2.000000  ...       0.000000      -1.000000\n",
              "max    2.019001e+11      10.000000  ...       9.000000       3.000000\n",
              "\n",
              "[8 rows x 12 columns]"
            ]
          },
          "metadata": {},
          "execution_count": 103
        }
      ]
    },
    {
      "cell_type": "code",
      "metadata": {
        "colab": {
          "base_uri": "https://localhost:8080/"
        },
        "id": "RU6LoQjQKUrl",
        "outputId": "7d130b2c-c208-4c94-fd39-e5f4c1783d9f"
      },
      "source": [
        "# check features (columns) types for the 2 datasets\n",
        "charcts_df.dtypes"
      ],
      "execution_count": 107,
      "outputs": [
        {
          "output_type": "execute_result",
          "data": {
            "text/plain": [
              "Num_Acc     object\n",
              "jour       float64\n",
              "mois       float64\n",
              "an         float64\n",
              "hrmn       float64\n",
              "lum        float64\n",
              "dep         object\n",
              "com         object\n",
              "agg        float64\n",
              "int        float64\n",
              "atm        float64\n",
              "col        float64\n",
              "adr         object\n",
              "lat        float64\n",
              "long       float64\n",
              "dtype: object"
            ]
          },
          "metadata": {},
          "execution_count": 107
        }
      ]
    },
    {
      "cell_type": "code",
      "metadata": {
        "colab": {
          "base_uri": "https://localhost:8080/"
        },
        "id": "75SgRkwhtIlP",
        "outputId": "694d7f29-cc06-4fc6-8bd3-b460326e9a91"
      },
      "source": [
        "drivers_df.dtypes"
      ],
      "execution_count": 108,
      "outputs": [
        {
          "output_type": "execute_result",
          "data": {
            "text/plain": [
              "Num_Acc         int64\n",
              "id_vehicule    object\n",
              "num_veh        object\n",
              "place           int64\n",
              "catu            int64\n",
              "grav            int64\n",
              "sexe            int64\n",
              "an_nais         int64\n",
              "trajet          int64\n",
              "secu1           int64\n",
              "secu2           int64\n",
              "secu3           int64\n",
              "locp            int64\n",
              "actp           object\n",
              "etatp           int64\n",
              "dtype: object"
            ]
          },
          "metadata": {},
          "execution_count": 108
        }
      ]
    },
    {
      "cell_type": "code",
      "metadata": {
        "id": "qDpHumJDKYO6"
      },
      "source": [
        "# change columns names from Frenc to English\n",
        "charcts_df.rename(columns = {'Num_Acc': 'acc_id', 'jour': 'Day', 'mois':'Month', 'an':'Year','hrmn':'Hour_Mins', 'lum':'Light','dep':'Department', 'com':'Municipality','agg':'Location', 'int':'Intersection','atm':'Weather_cond', 'col':'Collison_type','adr':'Address', 'lat':'Latitude','long':'Longtitude'}, inplace = True)\n",
        "drivers_df.rename(columns = {'catu':'user_category','grav':'injury_severity','sexe':'sex','an_nais':'Birth_year','trajet':'travel_reason','actp':'ped_action','etatp':'ped_company'}, inplace = True)"
      ],
      "execution_count": 144,
      "outputs": []
    },
    {
      "cell_type": "code",
      "metadata": {
        "colab": {
          "base_uri": "https://localhost:8080/"
        },
        "id": "PVl8aozLxkN1",
        "outputId": "550e3f61-3ead-458e-c50d-9b11d87030bb"
      },
      "source": [
        "# explore the data type at each series\n",
        "charcts_df.dtypes"
      ],
      "execution_count": 145,
      "outputs": [
        {
          "output_type": "execute_result",
          "data": {
            "text/plain": [
              "acc_id                   object\n",
              "Day              datetime64[ns]\n",
              "Month            datetime64[ns]\n",
              "Year             datetime64[ns]\n",
              "Hour_Mins               float64\n",
              "Light                     int64\n",
              "Department               object\n",
              "Municipality             object\n",
              "Location                  int64\n",
              "Intersection              int64\n",
              "Weather_cond              int64\n",
              "Collison_type             int64\n",
              "Address                  object\n",
              "Latitude                float64\n",
              "Longtitude              float64\n",
              "dtype: object"
            ]
          },
          "metadata": {},
          "execution_count": 145
        }
      ]
    },
    {
      "cell_type": "code",
      "metadata": {
        "colab": {
          "base_uri": "https://localhost:8080/"
        },
        "id": "OHvKkuwENZOh",
        "outputId": "ffa8c6bc-7924-4209-a0b1-e30d635e2272"
      },
      "source": [
        "drivers_df.dtypes"
      ],
      "execution_count": 146,
      "outputs": [
        {
          "output_type": "execute_result",
          "data": {
            "text/plain": [
              "Num_Acc             int64\n",
              "id_vehicule        object\n",
              "num_veh            object\n",
              "place               int64\n",
              "user_category       int64\n",
              "injury_severity     int64\n",
              "sex                 int64\n",
              "Birth_year          int64\n",
              "travel_reason       int64\n",
              "secu1               int64\n",
              "secu2               int64\n",
              "secu3               int64\n",
              "locp                int64\n",
              "ped_action         object\n",
              "ped_company         int64\n",
              "dtype: object"
            ]
          },
          "metadata": {},
          "execution_count": 146
        }
      ]
    },
    {
      "cell_type": "code",
      "metadata": {
        "colab": {
          "base_uri": "https://localhost:8080/"
        },
        "id": "UP4ztB5NMtwm",
        "outputId": "4dca4258-5dd7-4bcc-f764-8e9e21f97633"
      },
      "source": [
        "charcts_df.info()"
      ],
      "execution_count": 148,
      "outputs": [
        {
          "output_type": "stream",
          "name": "stdout",
          "text": [
            "<class 'pandas.core.frame.DataFrame'>\n",
            "Int64Index: 58286 entries, 0 to 58839\n",
            "Data columns (total 15 columns):\n",
            " #   Column         Non-Null Count  Dtype         \n",
            "---  ------         --------------  -----         \n",
            " 0   acc_id         58286 non-null  object        \n",
            " 1   Day            58286 non-null  datetime64[ns]\n",
            " 2   Month          58286 non-null  datetime64[ns]\n",
            " 3   Year           58286 non-null  datetime64[ns]\n",
            " 4   Hour_Mins      58286 non-null  float64       \n",
            " 5   Light          58286 non-null  int64         \n",
            " 6   Department     58286 non-null  object        \n",
            " 7   Municipality   58286 non-null  object        \n",
            " 8   Location       58286 non-null  int64         \n",
            " 9   Intersection   58286 non-null  int64         \n",
            " 10  Weather_cond   58286 non-null  int64         \n",
            " 11  Collison_type  58286 non-null  int64         \n",
            " 12  Address        58286 non-null  object        \n",
            " 13  Latitude       58286 non-null  float64       \n",
            " 14  Longtitude     58286 non-null  float64       \n",
            "dtypes: datetime64[ns](3), float64(3), int64(5), object(4)\n",
            "memory usage: 7.1+ MB\n"
          ]
        }
      ]
    },
    {
      "cell_type": "code",
      "metadata": {
        "colab": {
          "base_uri": "https://localhost:8080/"
        },
        "id": "6mA8rBp2x2Nr",
        "outputId": "58bd501e-1482-4216-e874-be0f203ab886"
      },
      "source": [
        "drivers_df.info()"
      ],
      "execution_count": 147,
      "outputs": [
        {
          "output_type": "stream",
          "name": "stdout",
          "text": [
            "<class 'pandas.core.frame.DataFrame'>\n",
            "RangeIndex: 132977 entries, 0 to 132976\n",
            "Data columns (total 15 columns):\n",
            " #   Column           Non-Null Count   Dtype \n",
            "---  ------           --------------   ----- \n",
            " 0   Num_Acc          132977 non-null  int64 \n",
            " 1   id_vehicule      132977 non-null  object\n",
            " 2   num_veh          132977 non-null  object\n",
            " 3   place            132977 non-null  int64 \n",
            " 4   user_category    132977 non-null  int64 \n",
            " 5   injury_severity  132977 non-null  int64 \n",
            " 6   sex              132977 non-null  int64 \n",
            " 7   Birth_year       132977 non-null  int64 \n",
            " 8   travel_reason    132977 non-null  int64 \n",
            " 9   secu1            132977 non-null  int64 \n",
            " 10  secu2            132977 non-null  int64 \n",
            " 11  secu3            132977 non-null  int64 \n",
            " 12  locp             132977 non-null  int64 \n",
            " 13  ped_action       132977 non-null  object\n",
            " 14  ped_company      132977 non-null  int64 \n",
            "dtypes: int64(12), object(3)\n",
            "memory usage: 15.2+ MB\n"
          ]
        }
      ]
    },
    {
      "cell_type": "code",
      "metadata": {
        "colab": {
          "base_uri": "https://localhost:8080/"
        },
        "id": "d3VvJjLPQKqS",
        "outputId": "c66fc966-a9f8-469a-a834-c8c7f89f6905"
      },
      "source": [
        "# check null values\n",
        "charcts_df.isna().sum()"
      ],
      "execution_count": 149,
      "outputs": [
        {
          "output_type": "execute_result",
          "data": {
            "text/plain": [
              "acc_id           0\n",
              "Day              0\n",
              "Month            0\n",
              "Year             0\n",
              "Hour_Mins        0\n",
              "Light            0\n",
              "Department       0\n",
              "Municipality     0\n",
              "Location         0\n",
              "Intersection     0\n",
              "Weather_cond     0\n",
              "Collison_type    0\n",
              "Address          0\n",
              "Latitude         0\n",
              "Longtitude       0\n",
              "dtype: int64"
            ]
          },
          "metadata": {},
          "execution_count": 149
        }
      ]
    },
    {
      "cell_type": "code",
      "metadata": {
        "colab": {
          "base_uri": "https://localhost:8080/"
        },
        "id": "aC_GfkBMx8nv",
        "outputId": "3767f1e8-5afc-4a7b-95c3-390d36ada720"
      },
      "source": [
        "drivers_df.isna().sum()"
      ],
      "execution_count": 121,
      "outputs": [
        {
          "output_type": "execute_result",
          "data": {
            "text/plain": [
              "Num_Acc        0\n",
              "id_vehicule    0\n",
              "num_veh        0\n",
              "place          0\n",
              "catu           0\n",
              "grav           0\n",
              "sexe           0\n",
              "an_nais        0\n",
              "trajet         0\n",
              "secu1          0\n",
              "secu2          0\n",
              "secu3          0\n",
              "locp           0\n",
              "actp           0\n",
              "etatp          0\n",
              "dtype: int64"
            ]
          },
          "metadata": {},
          "execution_count": 121
        }
      ]
    },
    {
      "cell_type": "code",
      "metadata": {
        "colab": {
          "base_uri": "https://localhost:8080/"
        },
        "id": "K9KpChP5l5XY",
        "outputId": "a8a4f0e6-87b5-4ede-da35-9d5db4a1cdf8"
      },
      "source": [
        "#The output of characteristics dataest shows null values for all features except accident_id, such values are not significant nor appropriate for analysis. As the dataset size is quite large, we will remove such records.\n",
        "# drop all rows with any NaN and NaT values\n",
        "charcts_df = charcts_df.dropna()\n",
        "charcts_df.isna().sum()"
      ],
      "execution_count": 123,
      "outputs": [
        {
          "output_type": "execute_result",
          "data": {
            "text/plain": [
              "acc_id           0\n",
              "Day              0\n",
              "Month            0\n",
              "Year             0\n",
              "Hour_Mins        0\n",
              "Light            0\n",
              "Department       0\n",
              "Municipality     0\n",
              "Location         0\n",
              "Intersection     0\n",
              "Weather_cond     0\n",
              "Collison_type    0\n",
              "Address          0\n",
              "Latitude         0\n",
              "Longtitude       0\n",
              "dtype: int64"
            ]
          },
          "metadata": {},
          "execution_count": 123
        }
      ]
    },
    {
      "cell_type": "code",
      "metadata": {
        "id": "7745FjVLyh5u"
      },
      "source": [
        "# However, the drivers dataset has no null values (checked above)."
      ],
      "execution_count": 124,
      "outputs": []
    },
    {
      "cell_type": "code",
      "metadata": {
        "colab": {
          "base_uri": "https://localhost:8080/"
        },
        "id": "59cHVWYjmS-5",
        "outputId": "fb235b46-cb7b-494a-db9f-e211b054e352"
      },
      "source": [
        "# check on columns \n",
        "charcts_df.columns"
      ],
      "execution_count": 125,
      "outputs": [
        {
          "output_type": "execute_result",
          "data": {
            "text/plain": [
              "Index(['acc_id', 'Day', 'Month', 'Year', 'Hour_Mins', 'Light', 'Department',\n",
              "       'Municipality', 'Location', 'Intersection', 'Weather_cond',\n",
              "       'Collison_type', 'Address', 'Latitude', 'Longtitude'],\n",
              "      dtype='object')"
            ]
          },
          "metadata": {},
          "execution_count": 125
        }
      ]
    },
    {
      "cell_type": "code",
      "metadata": {
        "colab": {
          "base_uri": "https://localhost:8080/"
        },
        "id": "92foLUpgyr4V",
        "outputId": "849b90c9-e742-4b14-ae0e-b85805e0cff2"
      },
      "source": [
        "drivers_df.columns"
      ],
      "execution_count": 150,
      "outputs": [
        {
          "output_type": "execute_result",
          "data": {
            "text/plain": [
              "Index(['Num_Acc', 'id_vehicule', 'num_veh', 'place', 'user_category',\n",
              "       'injury_severity', 'sex', 'Birth_year', 'travel_reason', 'secu1',\n",
              "       'secu2', 'secu3', 'locp', 'ped_action', 'ped_company'],\n",
              "      dtype='object')"
            ]
          },
          "metadata": {},
          "execution_count": 150
        }
      ]
    },
    {
      "cell_type": "code",
      "metadata": {
        "colab": {
          "base_uri": "https://localhost:8080/"
        },
        "id": "QkxWzsX9n7ny",
        "outputId": "452e5470-d064-46da-90a1-b301d565cb5a"
      },
      "source": [
        "charcts_df.info()"
      ],
      "execution_count": 129,
      "outputs": [
        {
          "output_type": "stream",
          "name": "stdout",
          "text": [
            "<class 'pandas.core.frame.DataFrame'>\n",
            "Int64Index: 58286 entries, 0 to 58839\n",
            "Data columns (total 15 columns):\n",
            " #   Column         Non-Null Count  Dtype         \n",
            "---  ------         --------------  -----         \n",
            " 0   acc_id         58286 non-null  object        \n",
            " 1   Day            58286 non-null  datetime64[ns]\n",
            " 2   Month          58286 non-null  datetime64[ns]\n",
            " 3   Year           58286 non-null  datetime64[ns]\n",
            " 4   Hour_Mins      58286 non-null  float64       \n",
            " 5   Light          58286 non-null  float64       \n",
            " 6   Department     58286 non-null  object        \n",
            " 7   Municipality   58286 non-null  object        \n",
            " 8   Location       58286 non-null  float64       \n",
            " 9   Intersection   58286 non-null  float64       \n",
            " 10  Weather_cond   58286 non-null  float64       \n",
            " 11  Collison_type  58286 non-null  float64       \n",
            " 12  Address        58286 non-null  object        \n",
            " 13  Latitude       58286 non-null  float64       \n",
            " 14  Longtitude     58286 non-null  float64       \n",
            "dtypes: datetime64[ns](3), float64(8), object(4)\n",
            "memory usage: 7.1+ MB\n"
          ]
        }
      ]
    },
    {
      "cell_type": "code",
      "metadata": {
        "id": "HSxH7bvgyscd"
      },
      "source": [
        "# convert the Day, Month, Year into datetime object \n",
        "charcts_df['Day'] = pd.to_datetime(charcts_df['Day'])\n",
        "charcts_df['Month'] = pd.to_datetime(charcts_df['Month'])\n",
        "charcts_df['Year'] = pd.to_datetime(charcts_df['Year'])"
      ],
      "execution_count": 127,
      "outputs": []
    },
    {
      "cell_type": "code",
      "metadata": {
        "id": "d_jk_qM1n_QJ"
      },
      "source": [
        "# to save memory and make it more efficient, change the following features types from float to int.\n",
        "# Light: 5 types, Location: 2 types, Intersection: 9, Weather: 9, Collision: 6 types\n",
        "charcts_df[['Light', 'Location','Intersection','Weather_cond','Collison_type']] = charcts_df[['Light', 'Location','Intersection','Weather_cond','Collison_type']].astype(int)\n",
        "# Department and Municipality for some rows have some characters, so we will leave them as they are. Location is string. "
      ],
      "execution_count": 135,
      "outputs": []
    },
    {
      "cell_type": "code",
      "metadata": {
        "colab": {
          "base_uri": "https://localhost:8080/"
        },
        "id": "6v7U5l9VoGQl",
        "outputId": "a3de6cc5-962c-4a84-ebb7-4b9f62797db7"
      },
      "source": [
        "charcts_df.info() "
      ],
      "execution_count": 136,
      "outputs": [
        {
          "output_type": "stream",
          "name": "stdout",
          "text": [
            "<class 'pandas.core.frame.DataFrame'>\n",
            "Int64Index: 58286 entries, 0 to 58839\n",
            "Data columns (total 15 columns):\n",
            " #   Column         Non-Null Count  Dtype         \n",
            "---  ------         --------------  -----         \n",
            " 0   acc_id         58286 non-null  object        \n",
            " 1   Day            58286 non-null  datetime64[ns]\n",
            " 2   Month          58286 non-null  datetime64[ns]\n",
            " 3   Year           58286 non-null  datetime64[ns]\n",
            " 4   Hour_Mins      58286 non-null  float64       \n",
            " 5   Light          58286 non-null  int64         \n",
            " 6   Department     58286 non-null  object        \n",
            " 7   Municipality   58286 non-null  object        \n",
            " 8   Location       58286 non-null  int64         \n",
            " 9   Intersection   58286 non-null  int64         \n",
            " 10  Weather_cond   58286 non-null  int64         \n",
            " 11  Collison_type  58286 non-null  int64         \n",
            " 12  Address        58286 non-null  object        \n",
            " 13  Latitude       58286 non-null  float64       \n",
            " 14  Longtitude     58286 non-null  float64       \n",
            "dtypes: datetime64[ns](3), float64(3), int64(5), object(4)\n",
            "memory usage: 7.1+ MB\n"
          ]
        }
      ]
    },
    {
      "cell_type": "code",
      "metadata": {
        "colab": {
          "base_uri": "https://localhost:8080/"
        },
        "id": "hLGqgo6UzyCD",
        "outputId": "7f0cc20a-ff91-4f6f-b2f2-99f52ecd0bbe"
      },
      "source": [
        "# now check the drivers dataset.\n",
        "drivers_df.info()"
      ],
      "execution_count": 151,
      "outputs": [
        {
          "output_type": "stream",
          "name": "stdout",
          "text": [
            "<class 'pandas.core.frame.DataFrame'>\n",
            "RangeIndex: 132977 entries, 0 to 132976\n",
            "Data columns (total 15 columns):\n",
            " #   Column           Non-Null Count   Dtype \n",
            "---  ------           --------------   ----- \n",
            " 0   Num_Acc          132977 non-null  int64 \n",
            " 1   id_vehicule      132977 non-null  object\n",
            " 2   num_veh          132977 non-null  object\n",
            " 3   place            132977 non-null  int64 \n",
            " 4   user_category    132977 non-null  int64 \n",
            " 5   injury_severity  132977 non-null  int64 \n",
            " 6   sex              132977 non-null  int64 \n",
            " 7   Birth_year       132977 non-null  int64 \n",
            " 8   travel_reason    132977 non-null  int64 \n",
            " 9   secu1            132977 non-null  int64 \n",
            " 10  secu2            132977 non-null  int64 \n",
            " 11  secu3            132977 non-null  int64 \n",
            " 12  locp             132977 non-null  int64 \n",
            " 13  ped_action       132977 non-null  object\n",
            " 14  ped_company      132977 non-null  int64 \n",
            "dtypes: int64(12), object(3)\n",
            "memory usage: 15.2+ MB\n"
          ]
        }
      ]
    },
    {
      "cell_type": "code",
      "metadata": {
        "id": "LUtUbnXb0M4l"
      },
      "source": [
        "# to save memory and make it more efficient, change the following features types from float to int.\n",
        "# Light: 5 types, Location: 2 types, Intersection: 9, Weather: 9, Collision: 6 types\n",
        "charcts_df[['Light', 'Location','Intersection','Weather_cond','Collison_type']] = charcts_df[['Light', 'Location','Intersection','Weather_cond','Collison_type']].astype(int)\n",
        "# Department and Municipality for some rows have some characters, so we will leave them as they are. Location is string. "
      ],
      "execution_count": null,
      "outputs": []
    },
    {
      "cell_type": "code",
      "metadata": {
        "id": "bMm_SGg-oKGV"
      },
      "source": [
        "# Visualisation"
      ],
      "execution_count": 110,
      "outputs": []
    },
    {
      "cell_type": "code",
      "metadata": {
        "id": "mJLt3q9WuDgB"
      },
      "source": [
        "# Merge the two datasets into one"
      ],
      "execution_count": 111,
      "outputs": []
    },
    {
      "cell_type": "code",
      "metadata": {
        "id": "VxvhffXzuJr-"
      },
      "source": [
        "# Model"
      ],
      "execution_count": null,
      "outputs": []
    }
  ]
}