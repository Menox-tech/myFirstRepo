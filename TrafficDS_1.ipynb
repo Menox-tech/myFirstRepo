{
  "nbformat": 4,
  "nbformat_minor": 0,
  "metadata": {
    "colab": {
      "name": "Untitled0.ipynb",
      "provenance": [],
      "collapsed_sections": [],
      "authorship_tag": "ABX9TyNa5q53JCyB/SRgnzLn8tOd",
      "include_colab_link": true
    },
    "kernelspec": {
      "name": "python3",
      "display_name": "Python 3"
    },
    "language_info": {
      "name": "python"
    }
  },
  "cells": [
    {
      "cell_type": "markdown",
      "metadata": {
        "id": "view-in-github",
        "colab_type": "text"
      },
      "source": [
        "<a href=\"https://colab.research.google.com/github/MeemooMe/myFirstRepo/blob/master/TrafficDS_1.ipynb\" target=\"_parent\"><img src=\"https://colab.research.google.com/assets/colab-badge.svg\" alt=\"Open In Colab\"/></a>"
      ]
    },
    {
      "cell_type": "code",
      "metadata": {
        "id": "MzSYtVCly2qQ"
      },
      "source": [
        "# import library, pandas to read the dataset, matplotlib to visualize data, and re to clean the text \n",
        "import pandas as pd\n",
        "from matplotlib import pyplot as plt\n",
        "import seaborn as sns\n",
        "import numpy as np\n",
        "%matplotlib inline"
      ],
      "execution_count": 189,
      "outputs": []
    },
    {
      "cell_type": "code",
      "metadata": {
        "colab": {
          "resources": {
            "http://localhost:8080/nbextensions/google.colab/files.js": {
              "data": "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",
              "ok": true,
              "headers": [
                [
                  "content-type",
                  "application/javascript"
                ]
              ],
              "status": 200,
              "status_text": ""
            }
          },
          "base_uri": "https://localhost:8080/",
          "height": 140
        },
        "id": "hpyirm_i1RRC",
        "outputId": "17e90035-fcb8-4f41-a5e6-ce51a61a8a03"
      },
      "source": [
        "# upload dataset files, the data is splitted into 2 files; accident characteritstics data file (caracteristiques-2019.csv) and drivers data file (usagers-2019.csv)\n",
        "import io\n",
        "from google.colab import files\n",
        "uploaded = files.upload()\n",
        "\n",
        "for name, data in uploaded.items():\n",
        "  with open(name, 'wb') as f:\n",
        "    f.write(data)\n",
        "    print ('saved file', name)\n"
      ],
      "execution_count": 7,
      "outputs": [
        {
          "output_type": "display_data",
          "data": {
            "text/html": [
              "\n",
              "     <input type=\"file\" id=\"files-0527784b-f260-4a88-aee0-ae31e538ba69\" name=\"files[]\" multiple disabled\n",
              "        style=\"border:none\" />\n",
              "     <output id=\"result-0527784b-f260-4a88-aee0-ae31e538ba69\">\n",
              "      Upload widget is only available when the cell has been executed in the\n",
              "      current browser session. Please rerun this cell to enable.\n",
              "      </output>\n",
              "      <script src=\"/nbextensions/google.colab/files.js\"></script> "
            ],
            "text/plain": [
              "<IPython.core.display.HTML object>"
            ]
          },
          "metadata": {}
        },
        {
          "output_type": "stream",
          "name": "stdout",
          "text": [
            "Saving caracteristiques-2019.csv to caracteristiques-2019.csv\n",
            "Saving usagers-2019.csv to usagers-2019.csv\n",
            "saved file caracteristiques-2019.csv\n",
            "saved file usagers-2019.csv\n"
          ]
        }
      ]
    },
    {
      "cell_type": "code",
      "metadata": {
        "id": "peEEJyPB1kRL"
      },
      "source": [
        "# read uploaded data using pd.read_csv, then store the data in df dataframe\n",
        "# charcts_df ==> Accident characterstics \n",
        "# drivers_df ==> Drivers data\n",
        "\n",
        "charcts_df = pd.read_csv(io.StringIO(uploaded['caracteristiques-2019.csv'].decode()), sep = ',')\n",
        "drivers_df = pd.read_csv(io.StringIO(uploaded['usagers-2019.csv'].decode()), sep = ',')"
      ],
      "execution_count": 92,
      "outputs": []
    },
    {
      "cell_type": "code",
      "metadata": {
        "id": "uwBqqT4AHogL"
      },
      "source": [
        "# show random dataframe content (5 rows) for the two datasets\n",
        "charcts_df.sample(5)"
      ],
      "execution_count": null,
      "outputs": []
    },
    {
      "cell_type": "code",
      "metadata": {
        "id": "jZgZcxaKsdFR"
      },
      "source": [
        "drivers_df.sample(5)"
      ],
      "execution_count": null,
      "outputs": []
    },
    {
      "cell_type": "code",
      "metadata": {
        "id": "RJDSa_QLH1Ca"
      },
      "source": [
        "# overview the two datasets, show basic stats\n",
        "charcts_df.describe()"
      ],
      "execution_count": null,
      "outputs": []
    },
    {
      "cell_type": "code",
      "metadata": {
        "id": "NRN231rFsjPn"
      },
      "source": [
        "drivers_df.describe()"
      ],
      "execution_count": null,
      "outputs": []
    },
    {
      "cell_type": "code",
      "metadata": {
        "id": "RU6LoQjQKUrl"
      },
      "source": [
        "# check features (columns) types for the 2 datasets\n",
        "charcts_df.dtypes"
      ],
      "execution_count": null,
      "outputs": []
    },
    {
      "cell_type": "code",
      "metadata": {
        "id": "75SgRkwhtIlP"
      },
      "source": [
        "drivers_df.dtypes"
      ],
      "execution_count": null,
      "outputs": []
    },
    {
      "cell_type": "code",
      "metadata": {
        "id": "qDpHumJDKYO6"
      },
      "source": [
        "# change columns names from Frenc to English\n",
        "charcts_df.rename(columns = {'Num_Acc': 'acc_id', 'jour': 'Day', 'mois':'Month', 'an':'Year','hrmn':'Hour_Mins', 'lum':'Light','dep':'Department', 'com':'Municipality','agg':'Location', 'int':'Intersection','atm':'Weather_cond', 'col':'Collison_type','adr':'Address', 'lat':'Latitude','long':'Longtitude'}, inplace = True)\n",
        "drivers_df.rename(columns = {'Num_Acc': 'acc_id','catu':'user_category','grav':'injury_severity','sexe':'sex','an_nais':'Birth_year','trajet':'travel_reason','actp':'ped_action','etatp':'ped_company'}, inplace = True)"
      ],
      "execution_count": 154,
      "outputs": []
    },
    {
      "cell_type": "code",
      "metadata": {
        "id": "PVl8aozLxkN1"
      },
      "source": [
        "# explore the data type at each series\n",
        "charcts_df.dtypes"
      ],
      "execution_count": null,
      "outputs": []
    },
    {
      "cell_type": "code",
      "metadata": {
        "id": "OHvKkuwENZOh"
      },
      "source": [
        "drivers_df.dtypes"
      ],
      "execution_count": null,
      "outputs": []
    },
    {
      "cell_type": "code",
      "metadata": {
        "colab": {
          "base_uri": "https://localhost:8080/"
        },
        "id": "UP4ztB5NMtwm",
        "outputId": "367d23dc-12b6-436c-deb4-3d7df2e2fb13"
      },
      "source": [
        "charcts_df.info()"
      ],
      "execution_count": 178,
      "outputs": [
        {
          "output_type": "stream",
          "name": "stdout",
          "text": [
            "<class 'pandas.core.frame.DataFrame'>\n",
            "Int64Index: 58286 entries, 0 to 58839\n",
            "Data columns (total 15 columns):\n",
            " #   Column         Non-Null Count  Dtype         \n",
            "---  ------         --------------  -----         \n",
            " 0   acc_id         58286 non-null  int64         \n",
            " 1   Day            58286 non-null  datetime64[ns]\n",
            " 2   Month          58286 non-null  datetime64[ns]\n",
            " 3   Year           58286 non-null  datetime64[ns]\n",
            " 4   Hour_Mins      58286 non-null  float64       \n",
            " 5   Light          58286 non-null  int64         \n",
            " 6   Department     58286 non-null  object        \n",
            " 7   Municipality   58286 non-null  object        \n",
            " 8   Location       58286 non-null  int64         \n",
            " 9   Intersection   58286 non-null  int64         \n",
            " 10  Weather_cond   58286 non-null  int64         \n",
            " 11  Collison_type  58286 non-null  int64         \n",
            " 12  Address        58286 non-null  object        \n",
            " 13  Latitude       58286 non-null  float64       \n",
            " 14  Longtitude     58286 non-null  float64       \n",
            "dtypes: datetime64[ns](3), float64(3), int64(6), object(3)\n",
            "memory usage: 7.1+ MB\n"
          ]
        }
      ]
    },
    {
      "cell_type": "code",
      "metadata": {
        "colab": {
          "base_uri": "https://localhost:8080/"
        },
        "id": "6mA8rBp2x2Nr",
        "outputId": "1854690c-849f-493d-f79f-ca1b3d66ab9e"
      },
      "source": [
        "drivers_df.info()"
      ],
      "execution_count": 179,
      "outputs": [
        {
          "output_type": "stream",
          "name": "stdout",
          "text": [
            "<class 'pandas.core.frame.DataFrame'>\n",
            "RangeIndex: 132977 entries, 0 to 132976\n",
            "Data columns (total 15 columns):\n",
            " #   Column           Non-Null Count   Dtype \n",
            "---  ------           --------------   ----- \n",
            " 0   acc_id           132977 non-null  int64 \n",
            " 1   id_vehicule      132977 non-null  object\n",
            " 2   num_veh          132977 non-null  object\n",
            " 3   place            132977 non-null  int64 \n",
            " 4   user_category    132977 non-null  int64 \n",
            " 5   injury_severity  132977 non-null  int64 \n",
            " 6   sex              132977 non-null  int64 \n",
            " 7   Birth_year       132977 non-null  int64 \n",
            " 8   travel_reason    132977 non-null  int64 \n",
            " 9   secu1            132977 non-null  int64 \n",
            " 10  secu2            132977 non-null  int64 \n",
            " 11  secu3            132977 non-null  int64 \n",
            " 12  locp             132977 non-null  int64 \n",
            " 13  ped_action       132977 non-null  int64 \n",
            " 14  ped_company      132977 non-null  int64 \n",
            "dtypes: int64(13), object(2)\n",
            "memory usage: 15.2+ MB\n"
          ]
        }
      ]
    },
    {
      "cell_type": "code",
      "metadata": {
        "id": "d3VvJjLPQKqS"
      },
      "source": [
        "# check null values\n",
        "charcts_df.isna().sum()"
      ],
      "execution_count": null,
      "outputs": []
    },
    {
      "cell_type": "code",
      "metadata": {
        "id": "aC_GfkBMx8nv"
      },
      "source": [
        "drivers_df.isna().sum()"
      ],
      "execution_count": null,
      "outputs": []
    },
    {
      "cell_type": "code",
      "metadata": {
        "id": "K9KpChP5l5XY"
      },
      "source": [
        "#The output of characteristics dataest shows null values for all features except accident_id, such values are not significant nor appropriate for analysis. As the dataset size is quite large, we will remove such records.\n",
        "# drop all rows with any NaN and NaT values\n",
        "charcts_df = charcts_df.dropna()\n",
        "charcts_df.isna().sum()"
      ],
      "execution_count": null,
      "outputs": []
    },
    {
      "cell_type": "code",
      "metadata": {
        "id": "7745FjVLyh5u"
      },
      "source": [
        "# However, the drivers dataset has no null values (checked above)."
      ],
      "execution_count": 124,
      "outputs": []
    },
    {
      "cell_type": "code",
      "metadata": {
        "colab": {
          "base_uri": "https://localhost:8080/"
        },
        "id": "59cHVWYjmS-5",
        "outputId": "fb235b46-cb7b-494a-db9f-e211b054e352"
      },
      "source": [
        "# check on columns \n",
        "charcts_df.columns"
      ],
      "execution_count": 125,
      "outputs": [
        {
          "output_type": "execute_result",
          "data": {
            "text/plain": [
              "Index(['acc_id', 'Day', 'Month', 'Year', 'Hour_Mins', 'Light', 'Department',\n",
              "       'Municipality', 'Location', 'Intersection', 'Weather_cond',\n",
              "       'Collison_type', 'Address', 'Latitude', 'Longtitude'],\n",
              "      dtype='object')"
            ]
          },
          "metadata": {},
          "execution_count": 125
        }
      ]
    },
    {
      "cell_type": "code",
      "metadata": {
        "colab": {
          "base_uri": "https://localhost:8080/"
        },
        "id": "92foLUpgyr4V",
        "outputId": "849b90c9-e742-4b14-ae0e-b85805e0cff2"
      },
      "source": [
        "drivers_df.columns"
      ],
      "execution_count": 150,
      "outputs": [
        {
          "output_type": "execute_result",
          "data": {
            "text/plain": [
              "Index(['Num_Acc', 'id_vehicule', 'num_veh', 'place', 'user_category',\n",
              "       'injury_severity', 'sex', 'Birth_year', 'travel_reason', 'secu1',\n",
              "       'secu2', 'secu3', 'locp', 'ped_action', 'ped_company'],\n",
              "      dtype='object')"
            ]
          },
          "metadata": {},
          "execution_count": 150
        }
      ]
    },
    {
      "cell_type": "code",
      "metadata": {
        "colab": {
          "base_uri": "https://localhost:8080/"
        },
        "id": "QkxWzsX9n7ny",
        "outputId": "452e5470-d064-46da-90a1-b301d565cb5a"
      },
      "source": [
        "charcts_df.info()"
      ],
      "execution_count": 129,
      "outputs": [
        {
          "output_type": "stream",
          "name": "stdout",
          "text": [
            "<class 'pandas.core.frame.DataFrame'>\n",
            "Int64Index: 58286 entries, 0 to 58839\n",
            "Data columns (total 15 columns):\n",
            " #   Column         Non-Null Count  Dtype         \n",
            "---  ------         --------------  -----         \n",
            " 0   acc_id         58286 non-null  object        \n",
            " 1   Day            58286 non-null  datetime64[ns]\n",
            " 2   Month          58286 non-null  datetime64[ns]\n",
            " 3   Year           58286 non-null  datetime64[ns]\n",
            " 4   Hour_Mins      58286 non-null  float64       \n",
            " 5   Light          58286 non-null  float64       \n",
            " 6   Department     58286 non-null  object        \n",
            " 7   Municipality   58286 non-null  object        \n",
            " 8   Location       58286 non-null  float64       \n",
            " 9   Intersection   58286 non-null  float64       \n",
            " 10  Weather_cond   58286 non-null  float64       \n",
            " 11  Collison_type  58286 non-null  float64       \n",
            " 12  Address        58286 non-null  object        \n",
            " 13  Latitude       58286 non-null  float64       \n",
            " 14  Longtitude     58286 non-null  float64       \n",
            "dtypes: datetime64[ns](3), float64(8), object(4)\n",
            "memory usage: 7.1+ MB\n"
          ]
        }
      ]
    },
    {
      "cell_type": "code",
      "metadata": {
        "id": "HSxH7bvgyscd"
      },
      "source": [
        "# convert the Day, Month, Year into datetime object \n",
        "charcts_df['Day'] = pd.to_datetime(charcts_df['Day'])\n",
        "charcts_df['Month'] = pd.to_datetime(charcts_df['Month'])\n",
        "charcts_df['Year'] = pd.to_datetime(charcts_df['Year'])"
      ],
      "execution_count": 127,
      "outputs": []
    },
    {
      "cell_type": "code",
      "metadata": {
        "id": "d_jk_qM1n_QJ"
      },
      "source": [
        "# to save memory and make it more efficient, change the following features types from float to int.\n",
        "# Light: 5 types, Location: 2 types, Intersection: 9, Weather: 9, Collision: 6 types\n",
        "charcts_df[['acc_id','Light', 'Location','Intersection','Weather_cond','Collison_type']] = charcts_df[['acc_id','Light', 'Location','Intersection','Weather_cond','Collison_type']].astype(int)\n",
        "# Department and Municipality for some rows have some characters, so we will leave them as they are. Location is string. "
      ],
      "execution_count": 175,
      "outputs": []
    },
    {
      "cell_type": "code",
      "metadata": {
        "colab": {
          "base_uri": "https://localhost:8080/"
        },
        "id": "6v7U5l9VoGQl",
        "outputId": "a3de6cc5-962c-4a84-ebb7-4b9f62797db7"
      },
      "source": [
        "charcts_df.info() "
      ],
      "execution_count": 136,
      "outputs": [
        {
          "output_type": "stream",
          "name": "stdout",
          "text": [
            "<class 'pandas.core.frame.DataFrame'>\n",
            "Int64Index: 58286 entries, 0 to 58839\n",
            "Data columns (total 15 columns):\n",
            " #   Column         Non-Null Count  Dtype         \n",
            "---  ------         --------------  -----         \n",
            " 0   acc_id         58286 non-null  object        \n",
            " 1   Day            58286 non-null  datetime64[ns]\n",
            " 2   Month          58286 non-null  datetime64[ns]\n",
            " 3   Year           58286 non-null  datetime64[ns]\n",
            " 4   Hour_Mins      58286 non-null  float64       \n",
            " 5   Light          58286 non-null  int64         \n",
            " 6   Department     58286 non-null  object        \n",
            " 7   Municipality   58286 non-null  object        \n",
            " 8   Location       58286 non-null  int64         \n",
            " 9   Intersection   58286 non-null  int64         \n",
            " 10  Weather_cond   58286 non-null  int64         \n",
            " 11  Collison_type  58286 non-null  int64         \n",
            " 12  Address        58286 non-null  object        \n",
            " 13  Latitude       58286 non-null  float64       \n",
            " 14  Longtitude     58286 non-null  float64       \n",
            "dtypes: datetime64[ns](3), float64(3), int64(5), object(4)\n",
            "memory usage: 7.1+ MB\n"
          ]
        }
      ]
    },
    {
      "cell_type": "code",
      "metadata": {
        "colab": {
          "base_uri": "https://localhost:8080/"
        },
        "id": "hLGqgo6UzyCD",
        "outputId": "e0c3c4f6-f034-429b-c8bd-734c423b33a2"
      },
      "source": [
        "# now check the drivers dataset.\n",
        "drivers_df.info()"
      ],
      "execution_count": 155,
      "outputs": [
        {
          "output_type": "stream",
          "name": "stdout",
          "text": [
            "<class 'pandas.core.frame.DataFrame'>\n",
            "RangeIndex: 132977 entries, 0 to 132976\n",
            "Data columns (total 15 columns):\n",
            " #   Column           Non-Null Count   Dtype \n",
            "---  ------           --------------   ----- \n",
            " 0   acc_id           132977 non-null  int64 \n",
            " 1   id_vehicule      132977 non-null  object\n",
            " 2   num_veh          132977 non-null  object\n",
            " 3   place            132977 non-null  int64 \n",
            " 4   user_category    132977 non-null  int64 \n",
            " 5   injury_severity  132977 non-null  int64 \n",
            " 6   sex              132977 non-null  int64 \n",
            " 7   Birth_year       132977 non-null  int64 \n",
            " 8   travel_reason    132977 non-null  int64 \n",
            " 9   secu1            132977 non-null  int64 \n",
            " 10  secu2            132977 non-null  int64 \n",
            " 11  secu3            132977 non-null  int64 \n",
            " 12  locp             132977 non-null  int64 \n",
            " 13  ped_action       132977 non-null  object\n",
            " 14  ped_company      132977 non-null  int64 \n",
            "dtypes: int64(12), object(3)\n",
            "memory usage: 15.2+ MB\n"
          ]
        }
      ]
    },
    {
      "cell_type": "code",
      "metadata": {
        "id": "LUtUbnXb0M4l"
      },
      "source": [
        "# to save memory and make it more efficient, change the following features types from float to int.\n",
        "        # user_category:   3 types\n",
        "        # injury_severity (target):   \t1. Unharmed, 2. Killed, 3. Injured hospitalized, 4. Slightly injured \n",
        "        # traverl_reason:  11 types (-1 not specified) \n",
        "        #                  -1 and 0 the same == not specified\n",
        "        # sec1 sec2 sec3:  11 types (-1 not specified)\n",
        "        #                  8 and 9 Other and not determinable == same?***\n",
        "        # Localisation du piéton = Pedestrian location (-1 not specified)\n",
        "        #                          -1 - Not specified, 0 - Not applicable, 9 - Unknown === same?***\n",
        "        # ped_action:  alphanumeric (-1 not specified)\n",
        "        #              between -1 to 9 and also, A and B\n",
        "        #              -1 not specified, 0 not specified or not applicable, 9 other, B unknown ==== same?***\n",
        "        # ped_company: 4 types (-1 not specified)        \n",
        "        # charcts_df[['Light', 'Location','Intersection','Weather_cond','Collison_type']] = charcts_df[['Light', 'Location','Intersection','Weather_cond','Collison_type']].astype(int)\n",
        "      "
      ],
      "execution_count": 152,
      "outputs": []
    },
    {
      "cell_type": "code",
      "metadata": {
        "id": "r-Cn0TIrUrcM"
      },
      "source": [
        "#print unique values in object columns to see data values\n",
        "def print_unique_col_values(df):\n",
        "       for column in df:\n",
        "            if df[column].dtypes=='object':    # only objects nd not numbers\n",
        "                print(f'{column}: {df[column].unique()}')"
      ],
      "execution_count": 158,
      "outputs": []
    },
    {
      "cell_type": "code",
      "metadata": {
        "id": "43Z7BJHYVpSB"
      },
      "source": [
        "print_unique_col_values(drivers_df)"
      ],
      "execution_count": null,
      "outputs": []
    },
    {
      "cell_type": "code",
      "metadata": {
        "id": "S5jdODlFV5WJ"
      },
      "source": [
        "drivers_df.replace('A','10',inplace=True)\n",
        "drivers_df.replace('B','11',inplace=True)\n",
        "print_unique_col_values(drivers_df)"
      ],
      "execution_count": null,
      "outputs": []
    },
    {
      "cell_type": "code",
      "metadata": {
        "id": "_UPH_XiGXlUr"
      },
      "source": [
        "drivers_df[\"ped_action\"].replace({\"A\": \"10\", \"B\": \"11\"}, inplace=True)"
      ],
      "execution_count": 168,
      "outputs": []
    },
    {
      "cell_type": "code",
      "metadata": {
        "id": "uJRZpAj3X69o"
      },
      "source": [
        "drivers_df.info()"
      ],
      "execution_count": null,
      "outputs": []
    },
    {
      "cell_type": "code",
      "metadata": {
        "id": "Tc2hAzKFYCkG"
      },
      "source": [
        "drivers_df[['ped_action']] = drivers_df[['ped_action']].astype(int)"
      ],
      "execution_count": 171,
      "outputs": []
    },
    {
      "cell_type": "code",
      "metadata": {
        "colab": {
          "base_uri": "https://localhost:8080/"
        },
        "id": "7WfKzmcRYMkl",
        "outputId": "f732dad3-5769-40bb-c5e4-3131abccef12"
      },
      "source": [
        "drivers_df.info()"
      ],
      "execution_count": 172,
      "outputs": [
        {
          "output_type": "stream",
          "name": "stdout",
          "text": [
            "<class 'pandas.core.frame.DataFrame'>\n",
            "RangeIndex: 132977 entries, 0 to 132976\n",
            "Data columns (total 15 columns):\n",
            " #   Column           Non-Null Count   Dtype \n",
            "---  ------           --------------   ----- \n",
            " 0   acc_id           132977 non-null  int64 \n",
            " 1   id_vehicule      132977 non-null  object\n",
            " 2   num_veh          132977 non-null  object\n",
            " 3   place            132977 non-null  int64 \n",
            " 4   user_category    132977 non-null  int64 \n",
            " 5   injury_severity  132977 non-null  int64 \n",
            " 6   sex              132977 non-null  int64 \n",
            " 7   Birth_year       132977 non-null  int64 \n",
            " 8   travel_reason    132977 non-null  int64 \n",
            " 9   secu1            132977 non-null  int64 \n",
            " 10  secu2            132977 non-null  int64 \n",
            " 11  secu3            132977 non-null  int64 \n",
            " 12  locp             132977 non-null  int64 \n",
            " 13  ped_action       132977 non-null  int64 \n",
            " 14  ped_company      132977 non-null  int64 \n",
            "dtypes: int64(13), object(2)\n",
            "memory usage: 15.2+ MB\n"
          ]
        }
      ]
    },
    {
      "cell_type": "code",
      "metadata": {
        "colab": {
          "base_uri": "https://localhost:8080/"
        },
        "id": "OcIY1G6VYOrG",
        "outputId": "0289a792-302f-4ff0-f3f7-859c22c23f1d"
      },
      "source": [
        "# Merge the two datasets into one\n",
        "print(pd.merge(charcts_df, drivers_df, on='acc_id'))"
      ],
      "execution_count": 176,
      "outputs": [
        {
          "output_type": "stream",
          "name": "stdout",
          "text": [
            "              acc_id                           Day  ... ped_action ped_company\n",
            "0       201900000001 1970-01-01 00:00:00.000000030  ...         -1          -1\n",
            "1       201900000001 1970-01-01 00:00:00.000000030  ...         -1          -1\n",
            "2       201900000001 1970-01-01 00:00:00.000000030  ...         -1          -1\n",
            "3       201900000002 1970-01-01 00:00:00.000000030  ...         -1          -1\n",
            "4       201900000003 1970-01-01 00:00:00.000000028  ...          0          -1\n",
            "...              ...                           ...  ...        ...         ...\n",
            "131688  201900058837 1970-01-01 00:00:00.000000027  ...         -1          -1\n",
            "131689  201900058838 1970-01-01 00:00:00.000000030  ...         -1          -1\n",
            "131690  201900058839 1970-01-01 00:00:00.000000030  ...         -1          -1\n",
            "131691  201900058840 1970-01-01 00:00:00.000000029  ...          0          -1\n",
            "131692  201900058840 1970-01-01 00:00:00.000000029  ...          0          -1\n",
            "\n",
            "[131693 rows x 29 columns]\n"
          ]
        }
      ]
    },
    {
      "cell_type": "code",
      "metadata": {
        "id": "ek5be0xSliop"
      },
      "source": [
        "df = pd.merge(charcts_df, drivers_df, on='acc_id')"
      ],
      "execution_count": 180,
      "outputs": []
    },
    {
      "cell_type": "code",
      "metadata": {
        "colab": {
          "base_uri": "https://localhost:8080/"
        },
        "id": "tz6g9fb2nnzM",
        "outputId": "ec97ea63-e782-4703-881d-c32d1d0d5d39"
      },
      "source": [
        "print(df.loc[df['acc_id'] == 201900000001])"
      ],
      "execution_count": 185,
      "outputs": [
        {
          "output_type": "stream",
          "name": "stdout",
          "text": [
            "         acc_id                           Day  ... ped_action ped_company\n",
            "0  201900000001 1970-01-01 00:00:00.000000030  ...         -1          -1\n",
            "1  201900000001 1970-01-01 00:00:00.000000030  ...         -1          -1\n",
            "2  201900000001 1970-01-01 00:00:00.000000030  ...         -1          -1\n",
            "\n",
            "[3 rows x 29 columns]\n"
          ]
        }
      ]
    },
    {
      "cell_type": "code",
      "metadata": {
        "id": "VwwhwBafn7X1"
      },
      "source": [
        ""
      ],
      "execution_count": null,
      "outputs": []
    },
    {
      "cell_type": "code",
      "metadata": {
        "id": "bMm_SGg-oKGV"
      },
      "source": [
        "# Visualisation"
      ],
      "execution_count": 186,
      "outputs": []
    },
    {
      "cell_type": "code",
      "metadata": {
        "colab": {
          "base_uri": "https://localhost:8080/",
          "height": 285
        },
        "id": "Sf7J1YJht39u",
        "outputId": "a5d9f4f7-2ae3-44a0-e37b-d9d63d3f3783"
      },
      "source": [
        "# plot Number of accidents per Municiapility\n",
        "sns.set_theme(style=\"darkgrid\")\n",
        "ax = sns.countplot(x=\"Department\", data=charcts_df)"
      ],
      "execution_count": 201,
      "outputs": [
        {
          "output_type": "display_data",
          "data": {
            "image/png": "[encoded data removed]",
            "text/plain": [
              "<Figure size 432x288 with 1 Axes>"
            ]
          },
          "metadata": {}
        }
      ]
    },
    {
      "cell_type": "code",
      "metadata": {
        "colab": {
          "base_uri": "https://localhost:8080/",
          "height": 285
        },
        "id": "BYq9cBOzuHYO",
        "outputId": "943c0d13-a77f-46ae-a5e0-125669ec2f80"
      },
      "source": [
        "# plot Number of accidents per Month\n",
        "ax = sns.countplot(x=\"Month\", data=charcts_df)"
      ],
      "execution_count": 196,
      "outputs": [
        {
          "output_type": "display_data",
          "data": {
            "image/png": "[encoded data removed]",
            "text/plain": [
              "<Figure size 432x288 with 1 Axes>"
            ]
          },
          "metadata": {}
        }
      ]
    },
    {
      "cell_type": "code",
      "metadata": {
        "colab": {
          "base_uri": "https://localhost:8080/",
          "height": 302
        },
        "id": "myH_duor7nDk",
        "outputId": "3cdef2bc-a8d2-4315-9f80-a19092056880"
      },
      "source": [
        "# plot injury_severity (the target) \n",
        "sns.countplot(x=\"injury_severity\", data=df)"
      ],
      "execution_count": 200,
      "outputs": [
        {
          "output_type": "execute_result",
          "data": {
            "text/plain": [
              "<matplotlib.axes._subplots.AxesSubplot at 0x7fa8fe258f90>"
            ]
          },
          "metadata": {},
          "execution_count": 200
        },
        {
          "output_type": "display_data",
          "data": {
            "image/png": "[encoded data removed]",
            "text/plain": [
              "<Figure size 432x288 with 1 Axes>"
            ]
          },
          "metadata": {}
        }
      ]
    },
    {
      "cell_type": "code",
      "metadata": {
        "colab": {
          "base_uri": "https://localhost:8080/",
          "height": 285
        },
        "id": "mJLt3q9WuDgB",
        "outputId": "03f66986-f8b5-4efd-879b-19b52db15956"
      },
      "source": [
        "# plot injury_severity (the target) per month\n",
        "ax = sns.countplot(x=\"Month\", hue=\"injury_severity\", data=df)"
      ],
      "execution_count": 227,
      "outputs": [
        {
          "output_type": "display_data",
          "data": {
            "image/png": "[encoded data removed]",
            "text/plain": [
              "<Figure size 432x288 with 1 Axes>"
            ]
          },
          "metadata": {}
        }
      ]
    },
    {
      "cell_type": "code",
      "metadata": {
        "colab": {
          "base_uri": "https://localhost:8080/",
          "height": 285
        },
        "id": "uPVrJboXEEKJ",
        "outputId": "efce300a-8165-495c-f90e-f16a89c5b36d"
      },
      "source": [
        "# plot injury_severity (the target) per gender\n",
        "ax = sns.countplot(x=\"sex\", hue=\"injury_severity\", data=df)"
      ],
      "execution_count": 229,
      "outputs": [
        {
          "output_type": "display_data",
          "data": {
            "image/png": "[encoded data removed]",
            "text/plain": [
              "<Figure size 432x288 with 1 Axes>"
            ]
          },
          "metadata": {}
        }
      ]
    },
    {
      "cell_type": "code",
      "metadata": {
        "colab": {
          "base_uri": "https://localhost:8080/",
          "height": 303
        },
        "id": "ogS1l8ju65wc",
        "outputId": "ee138fef-c709-4045-c34d-8fd145c5b804"
      },
      "source": [
        "# plot user category\n",
        "sns.countplot(x=\"user_category\", data=df)"
      ],
      "execution_count": 198,
      "outputs": [
        {
          "output_type": "execute_result",
          "data": {
            "text/plain": [
              "<matplotlib.axes._subplots.AxesSubplot at 0x7fa8fd282b90>"
            ]
          },
          "metadata": {},
          "execution_count": 198
        },
        {
          "output_type": "display_data",
          "data": {
            "image/png": "[encoded data removed]",
            "text/plain": [
              "<Figure size 432x288 with 1 Axes>"
            ]
          },
          "metadata": {}
        }
      ]
    },
    {
      "cell_type": "code",
      "metadata": {
        "id": "VxvhffXzuJr-"
      },
      "source": [
        "# Check correlation"
      ],
      "execution_count": 203,
      "outputs": []
    },
    {
      "cell_type": "code",
      "metadata": {
        "colab": {
          "base_uri": "https://localhost:8080/",
          "height": 343
        },
        "id": "1IO_PDIL8fbm",
        "outputId": "f0ccf969-b233-41d9-bd2b-f847a192ac76"
      },
      "source": [
        "# correalte injury_severity and other features\n",
        "df_correlation = df[[\"injury_severity\",\"Month\",\"Day\",\"Light\",\"Location\",\"Intersection\",\"Weather_cond\",\"Collison_type\",\"Department\",\"Municipality\"]]\n",
        "#column_1 = df[\"injury_severity\"]\n",
        "#column_2 = df[[\"Month\",\"Day\",\"Light\",\"Location\",\"Intersection\",\"Weather_cond\",\"Collison_type\",\"Department\",\"Municipality\"]]\n",
        "#correlation = column_2.corr(column_1)\n",
        "df_correlation.corr()\n",
        "# corr matrix\n",
        "sns.heatmap(df_correlation.corr(), cmap=\"seismic\", annot=True, vmin=-1, vmax=1);"
      ],
      "execution_count": 220,
      "outputs": [
        {
          "output_type": "display_data",
          "data": {
            "image/png": "[encoded data removed]",
            "text/plain": [
              "<Figure size 432x288 with 2 Axes>"
            ]
          },
          "metadata": {}
        }
      ]
    },
    {
      "cell_type": "code",
      "metadata": {
        "colab": {
          "base_uri": "https://localhost:8080/",
          "height": 343
        },
        "id": "d40yurr3-NJ8",
        "outputId": "a6edaaec-259e-4044-e3c4-ea748ee16d3b"
      },
      "source": [
        "# correalte injury_severity and other features\n",
        "df_correlation = df[[\"injury_severity\",\"user_category\",\"sex\",\"travel_reason\",\"ped_action\",\"ped_company\"]]\n",
        "df_correlation.corr()\n",
        "sns.heatmap(df_correlation.corr(), cmap=\"seismic\", annot=True, vmin=-1, vmax=1);"
      ],
      "execution_count": 224,
      "outputs": [
        {
          "output_type": "display_data",
          "data": {
            "image/png": "[encoded data removed]",
            "text/plain": [
              "<Figure size 432x288 with 2 Axes>"
            ]
          },
          "metadata": {}
        }
      ]
    },
    {
      "cell_type": "code",
      "metadata": {
        "id": "nqbT-pgy-aRZ"
      },
      "source": [
        "# user category and pedisterian have the strongest coorelation coefficient with injury severity. However, both are **still small**."
      ],
      "execution_count": 231,
      "outputs": []
    },
    {
      "cell_type": "code",
      "metadata": {
        "id": "MdeFh6i6Dyke"
      },
      "source": [
        "# Model\n",
        "# Logistic regression with all features, this is a prelimiary model, STILL working on it\n",
        "# Note: most of the features are categoriocal!"
      ],
      "execution_count": 226,
      "outputs": []
    },
    {
      "cell_type": "code",
      "metadata": {
        "colab": {
          "base_uri": "https://localhost:8080/"
        },
        "id": "N-Mrjhg0D3GG",
        "outputId": "fc8735b0-2d2d-4a92-9bb8-a8c146ca7233"
      },
      "source": [
        "# evaluate a LogisticRegression model using all suitable features\n",
        "from sklearn.preprocessing import LabelEncoder\n",
        "from sklearn.preprocessing import OrdinalEncoder\n",
        "from sklearn.model_selection import train_test_split\n",
        "from sklearn.linear_model import LogisticRegression\n",
        "from sklearn.metrics import accuracy_score\n",
        "# prepare input data\n",
        "def prepare_inputs(X_train, X_test):\n",
        "\toe = OrdinalEncoder()\n",
        "\toe.fit(X_train)\n",
        "\tX_train_enc = oe.transform(X_train)\n",
        "\tX_test_enc = oe.transform(X_test)\n",
        "\treturn X_train_enc, X_test_enc\n",
        " \n",
        "# prepare target\n",
        "def prepare_targets(y_train, y_test):\n",
        "\tle = LabelEncoder()\n",
        "\tle.fit(y_train)\n",
        "\ty_train_enc = le.transform(y_train)\n",
        "\ty_test_enc = le.transform(y_test)\n",
        "\treturn y_train_enc, y_test_enc\n",
        " \n",
        "# load the dataset\n",
        "# Choose the predictor variables, here all but the first which is the response variable\n",
        "X = df[['Month','Light','Location','Intersection','Weather_cond','Collison_type','sex','Department','Day']] #\"user_category\",\"sex\",\"travel_reason\",\"ped_action\",\"ped_company\", \"Day\"\n",
        "# Choose the response variable(s)\n",
        "y = df['injury_severity']\n",
        "# format all fields as string\n",
        "X = X.astype(str)\n",
        "\n",
        "\n",
        "# split into train and test sets\n",
        "X_train, X_test, y_train, y_test = train_test_split(X, y, test_size=0.33, random_state=1)\n",
        "# prepare input data\n",
        "X_train_enc, X_test_enc = prepare_inputs(X_train, X_test)\n",
        "# prepare output data\n",
        "y_train_enc, y_test_enc = prepare_targets(y_train, y_test)\n",
        "# fit the model\n",
        "model = LogisticRegression(solver='lbfgs')\n",
        "model.fit(X_train_enc, y_train_enc)\n",
        "# evaluate the model\n",
        "yhat = model.predict(X_test_enc)\n",
        "# evaluate predictions\n",
        "accuracy = accuracy_score(y_test_enc, yhat)\n",
        "print('Accuracy: %.2f' % (accuracy*100))"
      ],
      "execution_count": 256,
      "outputs": [
        {
          "output_type": "stream",
          "name": "stdout",
          "text": [
            "Accuracy: 43.82\n"
          ]
        }
      ]
    },
    {
      "cell_type": "markdown",
      "metadata": {
        "id": "wjZWHLa2NXZT"
      },
      "source": [
        ""
      ]
    },
    {
      "cell_type": "code",
      "metadata": {
        "id": "dj3sB8GiNiSK"
      },
      "source": [
        "# As most of the features are categorical, we are built another linear regression model using Chi-Squared selected features"
      ],
      "execution_count": 259,
      "outputs": []
    },
    {
      "cell_type": "code",
      "metadata": {
        "colab": {
          "base_uri": "https://localhost:8080/"
        },
        "id": "BoQJggnyOF_1",
        "outputId": "8d1b614c-cc19-4080-b79c-9c7ef698f86d"
      },
      "source": [
        "# evaluation of a model fit using chi squared input features\n",
        "from sklearn.feature_selection import SelectKBest\n",
        "from sklearn.feature_selection import chi2\n",
        "\n",
        "# prepare input data\n",
        "def prepare_inputs(X_train, X_test):\n",
        "\toe = OrdinalEncoder()\n",
        "\toe.fit(X_train)\n",
        "\tX_train_enc = oe.transform(X_train)\n",
        "\tX_test_enc = oe.transform(X_test)\n",
        "\treturn X_train_enc, X_test_enc\n",
        "\n",
        "# prepare target\n",
        "def prepare_targets(y_train, y_test):\n",
        "\tle = LabelEncoder()\n",
        "\tle.fit(y_train)\n",
        "\ty_train_enc = le.transform(y_train)\n",
        "\ty_test_enc = le.transform(y_test)\n",
        "\treturn y_train_enc, y_test_enc\n",
        "\n",
        "# feature selection\n",
        "def select_features(X_train, y_train, X_test):\n",
        "\tfs = SelectKBest(score_func=chi2, k=4)\n",
        "\tfs.fit(X_train, y_train)\n",
        "\tX_train_fs = fs.transform(X_train)\n",
        "\tX_test_fs = fs.transform(X_test)\n",
        "\treturn X_train_fs, X_test_fs\n",
        "\n",
        "# load the dataset\n",
        "# Choose the predictor and response variables\n",
        "X = df[['Month','Light','Location','Intersection','Weather_cond','Collison_type','sex']] #\"user_category\",\"sex\",\"travel_reason\",\"ped_action\",\"ped_company\", \"Day\"\n",
        "y = df['injury_severity']\n",
        "# format all fields as string\n",
        "X = X.astype(str)\n",
        "\n",
        "# split into train and test sets\n",
        "X_train, X_test, y_train, y_test = train_test_split(X, y, test_size=0.33, random_state=1)\n",
        "# prepare input data\n",
        "X_train_enc, X_test_enc = prepare_inputs(X_train, X_test)\n",
        "# prepare output data\n",
        "y_train_enc, y_test_enc = prepare_targets(y_train, y_test)\n",
        "# feature selection\n",
        "X_train_fs, X_test_fs = select_features(X_train_enc, y_train_enc, X_test_enc)\n",
        "# fit the model\n",
        "model = LogisticRegression(solver='lbfgs')\n",
        "model.fit(X_train_fs, y_train_enc)\n",
        "# evaluate the model\n",
        "yhat = model.predict(X_test_fs)\n",
        "# evaluate predictions\n",
        "accuracy = accuracy_score(y_test_enc, yhat)\n",
        "print('Accuracy: %.2f' % (accuracy*100))"
      ],
      "execution_count": 260,
      "outputs": [
        {
          "output_type": "stream",
          "name": "stdout",
          "text": [
            "Accuracy: 45.97\n"
          ]
        }
      ]
    }
  ]
}